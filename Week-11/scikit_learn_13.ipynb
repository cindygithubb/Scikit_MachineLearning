{
 "cells": [
  {
   "cell_type": "markdown",
   "id": "70590616",
   "metadata": {},
   "source": [
    "# 13 Classification Task dengan Naive Bayes"
   ]
  },
  {
   "cell_type": "markdown",
   "id": "32b27530",
   "metadata": {},
   "source": [
    "Cindy Amelia Saputra - 2273011"
   ]
  },
  {
   "cell_type": "markdown",
   "id": "e6c5b06f",
   "metadata": {},
   "source": [
    "Source : Youtube Indonesia Belajar"
   ]
  },
  {
   "cell_type": "markdown",
   "id": "f4785cee",
   "metadata": {},
   "source": [
    "Bayes' Theorem\n",
    "Bayes' theorem menawarkan formula untuk menghitung nilai probability dari suatu event dengan memanfaatkan pengetahuan sebelumnya dari kondisi terkait; atau sering kali dikenal dengan istilah conditional probability.\n",
    "\n",
    "𝑃(𝐴|𝐵)=𝑃(𝐵|𝐴)×𝑃(𝐴)/𝑃(𝐵)\n",
    "𝑃(𝑦|𝑋)=𝑃(𝑋|𝑦)×𝑃(𝑦)/𝑃(𝑋)\n",
    "\n",
    "𝑃𝑜𝑠𝑡𝑒𝑟𝑖𝑜𝑟=𝐿𝑖𝑘𝑒𝑙𝑖ℎ𝑜𝑜𝑑×𝑃𝑟𝑖𝑜𝑟/𝐸𝑣𝑖𝑑𝑒𝑛𝑐𝑒\n",
    "\n",
    "Referensi: https://en.wikipedia.org/wiki/Naive_Bayes_classifier"
   ]
  },
  {
   "cell_type": "markdown",
   "id": "ed8c37c9",
   "metadata": {},
   "source": [
    "Pengenalan Naive Bayes Classification\n",
    "\n",
    "Studi Kasus 1\n",
    "Misi: Lakukan prediksi siapa pelanggan yang melakukan pemesanan dengan diketahui pesanannya adalah lumpia dan bakso.\n",
    "\n",
    "Prior Probability : 𝑃(𝑦)\n",
    "Referensi: https://en.wikipedia.org/wiki/Prior_probability\n",
    "𝑃(𝐴𝑠𝑒𝑝)=0.5\n",
    "𝑃(𝐽𝑜𝑘𝑜)=0.5\n",
    " \n",
    "Likelihood:  𝑃(𝑋|𝑦)\n",
    "Referensi: https://en.wikipedia.org/wiki/Likelihood_function\n",
    "Asep:\n",
    "𝑃(𝑙𝑢𝑚𝑝𝑖𝑎,𝑏𝑎𝑘𝑠𝑜|𝐴𝑠𝑒𝑝)=(0.1×0.8)\n",
    "=0.08\n",
    "\n",
    "Joko:\n",
    "𝑃(𝑙𝑢𝑚𝑝𝑖𝑎,𝑏𝑎𝑘𝑠𝑜|𝐽𝑜𝑘𝑜)=(0.3×0.2)\n",
    "=0.06\n",
    " \n",
    "Evidence atau Normalizer:  𝑃(𝑋)\n",
    "𝐸𝑣𝑖𝑑𝑒𝑛𝑐𝑒=∑(𝐿𝑖𝑘𝑒𝑙𝑖ℎ𝑜𝑜𝑑×𝑃𝑟𝑖𝑜𝑟)\n",
    "𝑃(𝑙𝑢𝑚𝑝𝑖𝑎,𝑏𝑎𝑘𝑠𝑜)=(0.08×0.5)+(0.06×0.5)\n",
    "=0.07\n",
    "\n",
    "Posterior Probability:  𝑃(𝑦|𝑋)\n",
    "Referensi: https://en.wikipedia.org/wiki/Posterior_probability\n",
    "Formula:\n",
    "𝑃𝑜𝑠𝑡𝑒𝑟𝑖𝑜𝑟=𝐿𝑖𝑘𝑒𝑙𝑖ℎ𝑜𝑜𝑑×𝑃𝑟𝑖𝑜𝑟/𝐸𝑣𝑖𝑑𝑒𝑛𝑐𝑒\n",
    " \n",
    "Asep:\n",
    "𝑃(𝐴𝑠𝑒𝑝|𝑙𝑢𝑚𝑝𝑖𝑎,𝑏𝑎𝑘𝑠𝑜)=0.08×0.5/0.07\n",
    "=0.57\n",
    " \n",
    "Joko:\n",
    "𝑃(𝐽𝑜𝑘𝑜|𝑙𝑢𝑚𝑝𝑖𝑎,𝑏𝑎𝑘𝑠𝑜)=0.06×0.5/0.07\n",
    "=0.43"
   ]
  },
  {
   "cell_type": "markdown",
   "id": "212fe9cb",
   "metadata": {},
   "source": [
    "Studi Kasus 2\n",
    "Misi: Lakukan prediksi siapa pelanggan yang melakukan pemesanan dengan diketahui pesanannya adalah siomay dan bakso.\n",
    "\n",
    "Posterior Probability:  𝑃(𝑦|𝑋)(kasus 2)\n",
    "pesanan: siomay, bakso\n",
    "\n",
    "Evidence:  𝑃(𝑋)\n",
    "𝑃(𝑠𝑖𝑜𝑚𝑎𝑦,𝑏𝑎𝑘𝑠𝑜)=(0.1×0.8×0.5)+(0.5×0.2×0.5)\n",
    "=0.09\n",
    " \n",
    "Asep:\n",
    "𝑃(𝐴𝑠𝑒𝑝|𝑠𝑖𝑜𝑚𝑎𝑦,𝑏𝑎𝑘𝑠𝑜)=(0.1×0.8)×0.5/0.09\n",
    "=0.444\n",
    " \n",
    "Joko:\n",
    "𝑃(𝐽𝑜𝑘𝑜|𝑠𝑖𝑜𝑚𝑎𝑦,𝑏𝑎𝑘𝑠𝑜)=(0.5×0.2)×0.5/0.09\n",
    "=0.555"
   ]
  },
  {
   "cell_type": "markdown",
   "id": "9a99ec13",
   "metadata": {},
   "source": [
    "Mengapa disebut Naive?\n",
    "Karena sewaktu kita mendefinisikan Likelihood  𝑃(𝑙𝑢𝑚𝑝𝑖𝑎,𝑏𝑎𝑘𝑠𝑜|𝐴𝑠𝑒𝑝), kita mengasumsikan  𝑃(𝑙𝑢𝑚𝑝𝑖𝑎|𝐴𝑠𝑒𝑝)conditionally independent terhadap  𝑃(𝑏𝑎𝑘𝑠𝑜|𝐴𝑠𝑒𝑝), demikian sebaliknya.\n",
    "Sehingga dapat diformulasikan sebagai berikut:\n",
    "𝑃(𝑙𝑢𝑚𝑝𝑖𝑎,𝑏𝑎𝑘𝑠𝑜|𝐴𝑠𝑒𝑝)=𝑃(𝑙𝑢𝑚𝑝𝑖𝑎|𝐴𝑠𝑒𝑝)×𝑃(𝑏𝑎𝑘𝑠𝑜|𝐴𝑠𝑒𝑝)"
   ]
  },
  {
   "cell_type": "markdown",
   "id": "2153e112",
   "metadata": {},
   "source": [
    "Dataset: Breast Cancer Wisconsin (Diagnostic)\n",
    "Referensi: https://archive.ics.uci.edu/ml/datasets/Breast+Cancer+Wisconsin+(Diagnostic))"
   ]
  },
  {
   "cell_type": "code",
   "execution_count": 1,
   "id": "ea617fa0",
   "metadata": {},
   "outputs": [
    {
     "name": "stdout",
     "output_type": "stream",
     "text": [
      ".. _breast_cancer_dataset:\n",
      "\n",
      "Breast cancer wisconsin (diagnostic) dataset\n",
      "--------------------------------------------\n",
      "\n",
      "**Data Set Characteristics:**\n",
      "\n",
      "    :Number of Instances: 569\n",
      "\n",
      "    :Number of Attributes: 30 numeric, predictive attributes and the class\n",
      "\n",
      "    :Attribute Information:\n",
      "        - radius (mean of distances from center to points on the perimeter)\n",
      "        - texture (standard deviation of gray-scale values)\n",
      "        - perimeter\n",
      "        - area\n",
      "        - smoothness (local variation in radius lengths)\n",
      "        - compactness (perimeter^2 / area - 1.0)\n",
      "        - concavity (severity of concave portions of the contour)\n",
      "        - concave points (number of concave portions of the contour)\n",
      "        - symmetry\n",
      "        - fractal dimension (\"coastline approximation\" - 1)\n",
      "\n",
      "        The mean, standard error, and \"worst\" or largest (mean of the three\n",
      "        worst/largest values) of these features were computed for each image,\n",
      "        resulting in 30 features.  For instance, field 0 is Mean Radius, field\n",
      "        10 is Radius SE, field 20 is Worst Radius.\n",
      "\n",
      "        - class:\n",
      "                - WDBC-Malignant\n",
      "                - WDBC-Benign\n",
      "\n",
      "    :Summary Statistics:\n",
      "\n",
      "    ===================================== ====== ======\n",
      "                                           Min    Max\n",
      "    ===================================== ====== ======\n",
      "    radius (mean):                        6.981  28.11\n",
      "    texture (mean):                       9.71   39.28\n",
      "    perimeter (mean):                     43.79  188.5\n",
      "    area (mean):                          143.5  2501.0\n",
      "    smoothness (mean):                    0.053  0.163\n",
      "    compactness (mean):                   0.019  0.345\n",
      "    concavity (mean):                     0.0    0.427\n",
      "    concave points (mean):                0.0    0.201\n",
      "    symmetry (mean):                      0.106  0.304\n",
      "    fractal dimension (mean):             0.05   0.097\n",
      "    radius (standard error):              0.112  2.873\n",
      "    texture (standard error):             0.36   4.885\n",
      "    perimeter (standard error):           0.757  21.98\n",
      "    area (standard error):                6.802  542.2\n",
      "    smoothness (standard error):          0.002  0.031\n",
      "    compactness (standard error):         0.002  0.135\n",
      "    concavity (standard error):           0.0    0.396\n",
      "    concave points (standard error):      0.0    0.053\n",
      "    symmetry (standard error):            0.008  0.079\n",
      "    fractal dimension (standard error):   0.001  0.03\n",
      "    radius (worst):                       7.93   36.04\n",
      "    texture (worst):                      12.02  49.54\n",
      "    perimeter (worst):                    50.41  251.2\n",
      "    area (worst):                         185.2  4254.0\n",
      "    smoothness (worst):                   0.071  0.223\n",
      "    compactness (worst):                  0.027  1.058\n",
      "    concavity (worst):                    0.0    1.252\n",
      "    concave points (worst):               0.0    0.291\n",
      "    symmetry (worst):                     0.156  0.664\n",
      "    fractal dimension (worst):            0.055  0.208\n",
      "    ===================================== ====== ======\n",
      "\n",
      "    :Missing Attribute Values: None\n",
      "\n",
      "    :Class Distribution: 212 - Malignant, 357 - Benign\n",
      "\n",
      "    :Creator:  Dr. William H. Wolberg, W. Nick Street, Olvi L. Mangasarian\n",
      "\n",
      "    :Donor: Nick Street\n",
      "\n",
      "    :Date: November, 1995\n",
      "\n",
      "This is a copy of UCI ML Breast Cancer Wisconsin (Diagnostic) datasets.\n",
      "https://goo.gl/U2Uwz2\n",
      "\n",
      "Features are computed from a digitized image of a fine needle\n",
      "aspirate (FNA) of a breast mass.  They describe\n",
      "characteristics of the cell nuclei present in the image.\n",
      "\n",
      "Separating plane described above was obtained using\n",
      "Multisurface Method-Tree (MSM-T) [K. P. Bennett, \"Decision Tree\n",
      "Construction Via Linear Programming.\" Proceedings of the 4th\n",
      "Midwest Artificial Intelligence and Cognitive Science Society,\n",
      "pp. 97-101, 1992], a classification method which uses linear\n",
      "programming to construct a decision tree.  Relevant features\n",
      "were selected using an exhaustive search in the space of 1-4\n",
      "features and 1-3 separating planes.\n",
      "\n",
      "The actual linear program used to obtain the separating plane\n",
      "in the 3-dimensional space is that described in:\n",
      "[K. P. Bennett and O. L. Mangasarian: \"Robust Linear\n",
      "Programming Discrimination of Two Linearly Inseparable Sets\",\n",
      "Optimization Methods and Software 1, 1992, 23-34].\n",
      "\n",
      "This database is also available through the UW CS ftp server:\n",
      "\n",
      "ftp ftp.cs.wisc.edu\n",
      "cd math-prog/cpo-dataset/machine-learn/WDBC/\n",
      "\n",
      ".. topic:: References\n",
      "\n",
      "   - W.N. Street, W.H. Wolberg and O.L. Mangasarian. Nuclear feature extraction \n",
      "     for breast tumor diagnosis. IS&T/SPIE 1993 International Symposium on \n",
      "     Electronic Imaging: Science and Technology, volume 1905, pages 861-870,\n",
      "     San Jose, CA, 1993.\n",
      "   - O.L. Mangasarian, W.N. Street and W.H. Wolberg. Breast cancer diagnosis and \n",
      "     prognosis via linear programming. Operations Research, 43(4), pages 570-577, \n",
      "     July-August 1995.\n",
      "   - W.H. Wolberg, W.N. Street, and O.L. Mangasarian. Machine learning techniques\n",
      "     to diagnose breast cancer from fine-needle aspirates. Cancer Letters 77 (1994) \n",
      "     163-171.\n"
     ]
    }
   ],
   "source": [
    "#Load Dataset\n",
    "from sklearn.datasets import load_breast_cancer\n",
    "\n",
    "print(load_breast_cancer().DESCR)"
   ]
  },
  {
   "cell_type": "code",
   "execution_count": 2,
   "id": "dbd40a65",
   "metadata": {},
   "outputs": [
    {
     "data": {
      "text/plain": [
       "(569, 30)"
      ]
     },
     "execution_count": 2,
     "metadata": {},
     "output_type": "execute_result"
    }
   ],
   "source": [
    "#load_breast_cancer?\n",
    "X, y = load_breast_cancer(return_X_y=True)\n",
    "X.shape"
   ]
  },
  {
   "cell_type": "code",
   "execution_count": 3,
   "id": "d3eeedc9",
   "metadata": {},
   "outputs": [
    {
     "name": "stdout",
     "output_type": "stream",
     "text": [
      "X_train shape (455, 30)\n",
      "X_test shape (114, 30)\n"
     ]
    }
   ],
   "source": [
    "#Training & Testing Set\n",
    "from sklearn.model_selection import train_test_split\n",
    "\n",
    "X_train, X_test, y_train, y_test = train_test_split(X,\n",
    "                                                    y,\n",
    "                                                    test_size=0.2,\n",
    "                                                    random_state=0)\n",
    "\n",
    "print(f'X_train shape {X_train.shape}')\n",
    "print(f'X_test shape {X_test.shape}')"
   ]
  },
  {
   "cell_type": "markdown",
   "id": "b2b3d591",
   "metadata": {},
   "source": [
    "Naive Bayes dengan Scikit Learn"
   ]
  },
  {
   "cell_type": "code",
   "execution_count": 4,
   "id": "68ccfa96",
   "metadata": {},
   "outputs": [
    {
     "data": {
      "text/plain": [
       "0.9298245614035088"
      ]
     },
     "execution_count": 4,
     "metadata": {},
     "output_type": "execute_result"
    }
   ],
   "source": [
    "from sklearn.naive_bayes import GaussianNB\n",
    "from sklearn.metrics import accuracy_score\n",
    "\n",
    "model = GaussianNB()\n",
    "model.fit(X_train, y_train)\n",
    "y_pred = model.predict(X_test)\n",
    "accuracy_score(y_test, y_pred)"
   ]
  },
  {
   "cell_type": "code",
   "execution_count": 5,
   "id": "6ee9cd1e",
   "metadata": {},
   "outputs": [
    {
     "data": {
      "text/plain": [
       "0.9298245614035088"
      ]
     },
     "execution_count": 5,
     "metadata": {},
     "output_type": "execute_result"
    }
   ],
   "source": [
    "model.score(X_test, y_test)"
   ]
  }
 ],
 "metadata": {
  "celltoolbar": "Slideshow",
  "kernelspec": {
   "display_name": "Python 3 (ipykernel)",
   "language": "python",
   "name": "python3"
  },
  "language_info": {
   "codemirror_mode": {
    "name": "ipython",
    "version": 3
   },
   "file_extension": ".py",
   "mimetype": "text/x-python",
   "name": "python",
   "nbconvert_exporter": "python",
   "pygments_lexer": "ipython3",
   "version": "3.9.13"
  }
 },
 "nbformat": 4,
 "nbformat_minor": 5
}
